{
 "cells": [
  {
   "cell_type": "code",
   "execution_count": 1,
   "metadata": {},
   "outputs": [],
   "source": [
    "import numpy as np\n",
    "import pandas as pd\n",
    "from sklearn.model_selection import train_test_split\n",
    "from sklearn.preprocessing import OneHotEncoder\n",
    "from sklearn.preprocessing import MinMaxScaler\n",
    "from sklearn.preprocessing import StandardScaler\n",
    "from sklearn.pipeline import Pipeline\n",
    "import time\n",
    "from sklearn.model_selection import cross_val_score\n",
    "\n",
    "from scipy.linalg import pinv2\n",
    "from scipy.special import expit\n",
    "from sklearn.preprocessing import LabelBinarizer\n",
    "from sklearn.base import BaseEstimator, ClassifierMixin\n",
    "\n",
    "np.random.seed(0)"
   ]
  },
  {
   "cell_type": "code",
   "execution_count": 2,
   "metadata": {},
   "outputs": [],
   "source": [
    "from matplotlib.colors import ListedColormap\n",
    "import matplotlib.pyplot as plt\n",
    "\n",
    "# The following code is used for hiding the warnings and make this notebook clearer.\n",
    "import warnings\n",
    "warnings.filterwarnings('ignore')\n",
    "\n",
    "def executa_teste(X, y, classifier, test_idx=None, resolution=0.02):\n",
    "\n",
    "    # setup marker generator and color map\n",
    "    markers = ('s', 'x', 'o', '^', 'v')\n",
    "    colors = ('red', 'blue', 'lightgreen', 'gray', 'cyan')\n",
    "    cmap = ListedColormap(colors[:len(np.unique(y))])\n",
    "\n",
    "    # plot the decision surface\n",
    "    x1_min, x1_max = X[:, 0].min() - 1, X[:, 0].max() + 1\n",
    "    x2_min, x2_max = X[:, 1].min() - 1, X[:, 1].max() + 1\n",
    "    xx1, xx2 = np.meshgrid(np.arange(x1_min, x1_max, resolution),\n",
    "                           np.arange(x2_min, x2_max, resolution))\n",
    "    Z = classifier.predict(np.array([xx1.ravel(), xx2.ravel()]).T)\n",
    "    Z = Z.reshape(xx1.shape)\n",
    "    plt.contourf(xx1, xx2, Z, alpha=0.4, cmap=cmap)\n",
    "    plt.xlim(xx1.min(), xx1.max())\n",
    "    plt.ylim(xx2.min(), xx2.max())\n",
    "\n",
    "    # plot class samples\n",
    "    for idx, cl in enumerate(np.unique(y)):\n",
    "        plt.scatter(x=X[y == cl, 0], y=X[y == cl, 1],\n",
    "                    alpha=0.8, c=cmap(idx),\n",
    "                    marker=markers[idx], label=cl)\n",
    "\n",
    "    # highlight test samples\n",
    "    if test_idx:\n",
    "        # plot all samples\n",
    "        X_test, y_test = X[test_idx, :], y[test_idx]\n",
    "\n",
    "        plt.scatter(X_test[:, 0],\n",
    "                    X_test[:, 1],\n",
    "                    c='',\n",
    "                    alpha=1.0,\n",
    "                    linewidths=1,\n",
    "                    marker='o',\n",
    "                    s=55, label='test set')"
   ]
  },
  {
   "cell_type": "code",
   "execution_count": 3,
   "metadata": {},
   "outputs": [],
   "source": [
    "class Camada():\n",
    "    def __init__ (self, qtde_nosEntrada, qtde_nosSaida, taxa_aprendizado = 0.2, debug = True):\n",
    "        \n",
    "        self.debug = debug\n",
    "        \n",
    "        self.nosEntrada       = qtde_nosEntrada\n",
    "        self.nosSaida         = qtde_nosSaida\n",
    "        self.taxa_aprendizado = taxa_aprendizado\n",
    "\n",
    "        # gera um array com o shape (nos_entrada, nos_saida), multiplica cada valor do array por 2 e depois subtrai 1, para o resultado ficar entre -1 e 1.\n",
    "        self.pesos = 2 * np.random.rand(self.nosEntrada, self.nosSaida) - 1\n",
    "\n",
    "    def sigmoide(self, z):\n",
    "        r = 1.0 / (1.0 + np.exp(-z))\n",
    "        return r\n",
    "\n",
    "    def derivada_sigmoide(self, z):\n",
    "        r = np.multiply(z, (1 - z))\n",
    "        return r\n",
    "\n",
    "    def forward (self, entrada):\n",
    "        \n",
    "        self.entrada = entrada\n",
    "\n",
    "        if self.debug: print(\"\\t\\tforward self.entrada: {} -- tipo {} -- shape {}\".format(self.entrada, type(self.entrada), self.entrada.shape))\n",
    "        if self.debug: print(\"\\t\\tforward self.pesos: {} -- tipo {} -- shape {}\".format(self.pesos, type(self.pesos), self.pesos.shape))\n",
    "            \n",
    "        r = np.dot(self.entrada, self.pesos)\n",
    "        self.saida = self.sigmoide(r)\n",
    "        \n",
    "        if self.debug: print(\"\\t\\tforward self.saida: {} -- tipo {} -- shape {}\".format(self.saida, type(self.saida), self.saida.shape))\n",
    "        \n",
    "        return self.saida\n",
    "\n",
    "    def backward(self, d_erro):\n",
    "        \n",
    "        if self.debug: print(\"\\t\\tbackward derivada_erro: {} -- tipo {} -- shape {}\".format(d_erro, type(d_erro), d_erro.shape))\n",
    "        \n",
    "        # realiza o calculo da derivada da função de ativação passando a saída da camada como parametro para essa derivada\n",
    "        d_saida = self.derivada_sigmoide(self.saida)\n",
    "        if self.debug: print(\"\\t\\tbackward derivada_saida: {} -- tipo {} -- shape {}\".format(d_saida, type(d_saida), d_saida.shape))\n",
    "\n",
    "        #faz a multiplicação da derivada de erro com a derivada da saída\n",
    "        d_erro_saida = np.multiply(d_erro, d_saida)\n",
    "        if self.debug: print(\"\\t\\tbackward derivada_erro_derivada_saida: {} -- tipo {} -- shape {}\".format(d_erro_saida, type(d_erro_saida), d_erro_saida.shape))\n",
    "\n",
    "        #obtem a transposta dos pesos da camada\n",
    "        transposta_pesos = np.transpose(self.pesos)\n",
    "        if self.debug: print(\"\\t\\tbackward self.pesos: {} -- tipo {} -- shape {}\".format(self.pesos, type(self.pesos), self.pesos.shape))\n",
    "        if self.debug: print(\"\\t\\tbackward transposta_pesos: {} -- tipo {} -- shape {}\".format(transposta_pesos, type(transposta_pesos), transposta_pesos.shape))\n",
    "\n",
    "        # faz o dot product da derivada de erro multiplicada pela derivada de saída com a transposta de pesos\n",
    "        # isso é o que será encaminhado para a camada anterior\n",
    "        d = np.dot(d_erro_saida, transposta_pesos)\n",
    "        if self.debug: print(\"\\t\\tbackward d: {} -- tipo {} -- shape {}\".format(d, type(d), d.shape))\n",
    "\n",
    "        # faz a alteração nos pesos com base na taxa de aprendizado e na derivada de erro multiplicada pela derivada de saída\n",
    "        transposta_entrada = self.entrada.reshape(len(self.entrada), 1)\n",
    "        if self.debug: print(\"\\t\\tbackward self.entrada: {} -- tipo {} -- shape {}\".format(self.entrada, type(self.entrada), self.entrada.shape))\n",
    "        if self.debug: print(\"\\t\\tbackward transposta entrada: {} -- tipo {} -- shape {}\".format(transposta_entrada, type(transposta_entrada), transposta_entrada.shape))\n",
    "\n",
    "        # foi utilizado o @ notation, mas também daria certo com o np.dot\n",
    "        #d2 = np.dot(transposta_entrada, derivada_erro_derivada_saida)\n",
    "        d2 = transposta_entrada @ d_erro_saida.reshape(1, len(d_erro_saida))\n",
    "        if self.debug: print(\"\\t\\tbackward d2: {} -- tipo {} -- shape {}\".format(d2, type(d2), d2.shape))\n",
    "\n",
    "        self.pesos -= self.taxa_aprendizado * d2\n",
    "\n",
    "        return d"
   ]
  },
  {
   "cell_type": "code",
   "execution_count": 4,
   "metadata": {},
   "outputs": [],
   "source": [
    "class RedeNeural(BaseEstimator, ClassifierMixin):\n",
    "    #camadas = [2, 2, 1]\n",
    "    def __init__ (self, camadas, epocas = 10000, taxa_aprendizado = 0.2, debug = True): \n",
    "        \n",
    "        self.taxa_aprendizado = taxa_aprendizado\n",
    "        self.epocas           = epocas\n",
    "        self.debug            = debug\n",
    "        \n",
    "        bias_entrada = 1\n",
    "        bias_saida   = 1\n",
    "        \n",
    "        # a quantidade de camadas ocultas é o total de camadas, menos as camadas inicial e final.\n",
    "        qtde_camadas_ocultas = len(camadas) - 2\n",
    "        \n",
    "        # Cria a primeira camada da rede neural - inclui o nó bias na camada de entrada e na primeira camada oculta\n",
    "        self.camadas = np.array([Camada(camadas[0] + bias_entrada, camadas[1] + bias_saida, self.taxa_aprendizado, self.debug)])\n",
    "\n",
    "        # Cria as camadas ocultas - inclui o nó bias na camada de entrada e na primeira camada oculta da iteração\n",
    "        for i in range(qtde_camadas_ocultas - 1):\n",
    "            self.camadas = np.append(self.camadas, [Camada(camadas[i+1] + bias_entrada, camadas[i+2] + bias_saida, self.taxa_aprendizado, self.debug)])\n",
    "\n",
    "        # Cria a camada de saída - inclui o nó bias na camada de entrada e não inclui na camada de saída\n",
    "        self.camadas = np.append(self.camadas, [Camada(camadas[-2] + bias_entrada, camadas[-1], self.taxa_aprendizado, self.debug)])\n",
    "        \n",
    "    def print_arquitetura(self):\n",
    "        print(\"qtde_camadas_ocultas: {}\".format(len(self.camadas) - 1))\n",
    "        for camada in self.camadas:\n",
    "            print(\"camada\")\n",
    "            print(\"\\tnúmero de nós de entrada: {}\".format(camada.nosEntrada))\n",
    "            print(\"\\tnúmero de nós de saída:   {}\".format(camada.nosSaida))\n",
    "            print(\"\\tpesos da camada:          {} -- tipo {} -- shape {}\".format(camada.pesos, type(camada.pesos), camada.pesos.shape))\n",
    "            print()\n",
    "            \n",
    "    #dispara o sinal da primeira camada para a última\n",
    "    def avalia_registro(self, entrada):\n",
    "        #adiciona o bias na entrada\n",
    "        entrada = np.concatenate((np.ones(1).T, np.array(entrada)))\n",
    "\n",
    "        if self.debug: print(\"\\tinicio avalia_registro: {}\".format(entrada))\n",
    "\n",
    "        for camada in self.camadas:\n",
    "            entrada = camada.forward(entrada)\n",
    "            \n",
    "            if self.debug: print(\"\\tintermediario avalia_registro, resultado camada.forward: {}\".format(entrada))\n",
    "\n",
    "        return entrada\n",
    "\n",
    "    def avalia_erro(self, valor_esperado, saida_camada):\n",
    "        r = np.multiply(0.5, np.multiply((valor_esperado - saida_camada), (valor_esperado - saida_camada)))\n",
    "        return r\n",
    "\n",
    "    def calcula_delta_erro(self, valor_esperado, saida_camada):\n",
    "        r = saida_camada - valor_esperado\n",
    "        return r\n",
    "\n",
    "    def fit(self, X, y):\n",
    "        if self.debug: print(\"X shape: {}\".format(X.shape))\n",
    "\n",
    "        for i in range(self.epocas):\n",
    "            for j in range(X.shape[0]):\n",
    "                \n",
    "                # Para cada registro do vetor de entrada, obtemos o resultado do forward\n",
    "                entrada = X[j]\n",
    "                \n",
    "                if self.debug: print(\"X da vez: {}\".format(entrada))\n",
    "                \n",
    "                saida = self.avalia_registro(entrada)\n",
    "                \n",
    "                if self.debug: print(\"\\tsaida do X da vez: {}\".format(saida))\n",
    "                \n",
    "                esperado = y[j]\n",
    "                \n",
    "                if self.debug: print(\"\\ty da vez: {}\".format(esperado))\n",
    "                \n",
    "                vetor_erro = self.avalia_erro(esperado, saida)\n",
    "\n",
    "                if self.debug: print(\"\\terro da vez: {}\".format(vetor_erro))\n",
    "\n",
    "                # calcula a derivada do erro\n",
    "                delta_erro = self.calcula_delta_erro(esperado, saida)\n",
    "                \n",
    "                if self.debug: print(\"delta do erro da vez: {}\".format(delta_erro))\n",
    "                \n",
    "                for l in range(len(self.camadas) -1, -1, -1):\n",
    "                    delta_erro = self.camadas[l].backward(delta_erro)\n",
    "                    \n",
    "    def predict(self, X):\n",
    "        resultado = []\n",
    "        \n",
    "        if self.debug: print(\"X: {}\".format(X))\n",
    "\n",
    "        for x in X:\n",
    "            if self.debug: print(\"x: {}\".format(x))\n",
    "\n",
    "            r = self.avalia_registro(x)\n",
    "            \n",
    "            if self.debug: print(\"r: {}\".format(r))\n",
    "            \n",
    "            resultado.append(r)\n",
    "            \n",
    "            if self.debug: print()\n",
    "        \n",
    "        return np.array(resultado)"
   ]
  },
  {
   "cell_type": "code",
   "execution_count": 5,
   "metadata": {},
   "outputs": [],
   "source": [
    "X = np.array([[0, 0], [0, 1], [1, 0], [1, 1]])\n",
    "y = np.array([0, 1, 1, 0])"
   ]
  },
  {
   "cell_type": "code",
   "execution_count": 6,
   "metadata": {},
   "outputs": [
    {
     "data": {
      "text/plain": [
       "array([[0.03771873],\n",
       "       [0.94551077],\n",
       "       [0.95027847],\n",
       "       [0.07847588]])"
      ]
     },
     "execution_count": 6,
     "metadata": {},
     "output_type": "execute_result"
    }
   ],
   "source": [
    "#atentar-se ao fato de que é inserido um nó bias em cada camada, exceto a última\n",
    "rna = RedeNeural([2, 2, 1], debug = False)\n",
    "rna.fit(X, y)\n",
    "resultado = rna.predict(X)\n",
    "resultado"
   ]
  },
  {
   "cell_type": "code",
   "execution_count": 7,
   "metadata": {},
   "outputs": [
    {
     "name": "stderr",
     "output_type": "stream",
     "text": [
      "'c' argument looks like a single numeric RGB or RGBA sequence, which should be avoided as value-mapping will have precedence in case its length matches with 'x' & 'y'.  Please use a 2-D array with a single row if you really want to specify the same RGB or RGBA value for all points.\n",
      "'c' argument looks like a single numeric RGB or RGBA sequence, which should be avoided as value-mapping will have precedence in case its length matches with 'x' & 'y'.  Please use a 2-D array with a single row if you really want to specify the same RGB or RGBA value for all points.\n"
     ]
    },
    {
     "data": {
      "image/png": "[encoded data removed]",
      "text/plain": [
       "<Figure size 432x288 with 1 Axes>"
      ]
     },
     "metadata": {
      "needs_background": "light"
     },
     "output_type": "display_data"
    }
   ],
   "source": [
    "#atentar-se ao fato de que é inserido um nó bias em cada camada, exceto a última\n",
    "rna = RedeNeural([2, 2, 1], debug = False)\n",
    "rna.fit(X, y)\n",
    "executa_teste(X, y, rna)"
   ]
  },
  {
   "cell_type": "code",
   "execution_count": 8,
   "metadata": {},
   "outputs": [
    {
     "name": "stderr",
     "output_type": "stream",
     "text": [
      "'c' argument looks like a single numeric RGB or RGBA sequence, which should be avoided as value-mapping will have precedence in case its length matches with 'x' & 'y'.  Please use a 2-D array with a single row if you really want to specify the same RGB or RGBA value for all points.\n",
      "'c' argument looks like a single numeric RGB or RGBA sequence, which should be avoided as value-mapping will have precedence in case its length matches with 'x' & 'y'.  Please use a 2-D array with a single row if you really want to specify the same RGB or RGBA value for all points.\n"
     ]
    },
    {
     "data": {
      "image/png": "[encoded data removed]",
      "text/plain": [
       "<Figure size 432x288 with 1 Axes>"
      ]
     },
     "metadata": {
      "needs_background": "light"
     },
     "output_type": "display_data"
    }
   ],
   "source": [
    "#atentar-se ao fato de que é inserido um nó bias em cada camada, exceto a última\n",
    "rna = RedeNeural([2, 3, 1], debug = False)\n",
    "rna.fit(X, y)\n",
    "executa_teste(X, y, rna)"
   ]
  },
  {
   "cell_type": "code",
   "execution_count": 9,
   "metadata": {},
   "outputs": [
    {
     "name": "stderr",
     "output_type": "stream",
     "text": [
      "'c' argument looks like a single numeric RGB or RGBA sequence, which should be avoided as value-mapping will have precedence in case its length matches with 'x' & 'y'.  Please use a 2-D array with a single row if you really want to specify the same RGB or RGBA value for all points.\n",
      "'c' argument looks like a single numeric RGB or RGBA sequence, which should be avoided as value-mapping will have precedence in case its length matches with 'x' & 'y'.  Please use a 2-D array with a single row if you really want to specify the same RGB or RGBA value for all points.\n"
     ]
    },
    {
     "data": {
      "image/png": "[encoded data removed]",
      "text/plain": [
       "<Figure size 432x288 with 1 Axes>"
      ]
     },
     "metadata": {
      "needs_background": "light"
     },
     "output_type": "display_data"
    }
   ],
   "source": [
    "#atentar-se ao fato de que é inserido um nó bias em cada camada, exceto a última\n",
    "rna = RedeNeural([2, 4, 3, 1], debug = False)\n",
    "rna.fit(X, y)\n",
    "executa_teste(X, y, rna)"
   ]
  },
  {
   "cell_type": "markdown",
   "metadata": {},
   "source": [
    "# Resultados\n",
    "\n",
    "Nesta tarefa foi pedido que fosse implementada uma rede neural do tipo feed forward, porém, ao contrário da tarefa 5, nessa atividade foi solicitado o mecanismo de backward que é a etapa de ajuste dos pesos. Dessa maneira, implementamos uma rede neural contendo um único parametro não default que é o vetor de entrada que simboliza a arquitetura da rede neural, assim, um vetor \\[2, 2, 1\\]  significa que o programa construirá uma rede neural de 3 camadas, sendo uma oculta, e que na primeira e segunda camada existem dois neurônios, mais um neurônio de bias em cada camada, e na última camada, existe apenas um neurônio.\n",
    "\n",
    "Foram implementados os métodos forward e backward. No forward é onde ocorre a multiplicação do vetor de pesos da camada pela entrada contendo o bias e esse resultado passa pela função sigmóide, para normalizar o resultado. Na fase backward, é recebido um valor de erro resultado da forward e o valor esperado, e com esse valor de erro, os pesos são recalculados.\n",
    "\n",
    "Ao contrário da atividade 5, nesta atividade foi possível implementar um método fit que faça sentido, realizando o treinamento da rede neural. Caso deseje ver os valores, basta ativar o modo debug, setando o parametro para True. Mas cuidado, o numero de epocas está em 10.000 como padrão, o que pode causar travamentos do navegador ou lentidão, pois o debug é bastante verboso.\n",
    "\n",
    "Podemos ver também que arquiteturas diferentes geram resultados diferentes."
   ]
  }
 ],
 "metadata": {
  "kernelspec": {
   "display_name": "Python 3",
   "language": "python",
   "name": "python3"
  },
  "language_info": {
   "codemirror_mode": {
    "name": "ipython",
    "version": 3
   },
   "file_extension": ".py",
   "mimetype": "text/x-python",
   "name": "python",
   "nbconvert_exporter": "python",
   "pygments_lexer": "ipython3",
   "version": "3.7.6"
  }
 },
 "nbformat": 4,
 "nbformat_minor": 4
}
