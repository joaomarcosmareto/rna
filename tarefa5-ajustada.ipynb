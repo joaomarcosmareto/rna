{
 "cells": [
  {
   "cell_type": "code",
   "execution_count": 26,
   "metadata": {},
   "outputs": [],
   "source": [
    "import numpy as np\n",
    "import pandas as pd\n",
    "from sklearn.model_selection import train_test_split\n",
    "from sklearn.preprocessing import OneHotEncoder\n",
    "from sklearn.preprocessing import MinMaxScaler\n",
    "from sklearn.preprocessing import StandardScaler\n",
    "from sklearn.pipeline import Pipeline\n",
    "import time\n",
    "from sklearn.model_selection import cross_val_score\n",
    "\n",
    "from scipy.linalg import pinv2\n",
    "from scipy.special import expit\n",
    "from sklearn.preprocessing import LabelBinarizer\n",
    "from sklearn.base import BaseEstimator, ClassifierMixin\n",
    "\n",
    "np.random.seed(0)"
   ]
  },
  {
   "cell_type": "code",
   "execution_count": 27,
   "metadata": {},
   "outputs": [],
   "source": [
    "from matplotlib.colors import ListedColormap\n",
    "import matplotlib.pyplot as plt\n",
    "\n",
    "# The following code is used for hiding the warnings and make this notebook clearer.\n",
    "import warnings\n",
    "warnings.filterwarnings('ignore')\n",
    "\n",
    "def executa_teste(X, y, classifier, test_idx=None, resolution=0.02):\n",
    "\n",
    "    # setup marker generator and color map\n",
    "    markers = ('s', 'x', 'o', '^', 'v')\n",
    "    colors = ('red', 'blue', 'lightgreen', 'gray', 'cyan')\n",
    "    cmap = ListedColormap(colors[:len(np.unique(y))])\n",
    "\n",
    "    # plot the decision surface\n",
    "    x1_min, x1_max = X[:, 0].min() - 1, X[:, 0].max() + 1\n",
    "    x2_min, x2_max = X[:, 1].min() - 1, X[:, 1].max() + 1\n",
    "    xx1, xx2 = np.meshgrid(np.arange(x1_min, x1_max, resolution),\n",
    "                           np.arange(x2_min, x2_max, resolution))\n",
    "    Z = classifier.predict(np.array([xx1.ravel(), xx2.ravel()]).T)\n",
    "    Z = Z.reshape(xx1.shape)\n",
    "    plt.contourf(xx1, xx2, Z, alpha=0.4, cmap=cmap)\n",
    "    plt.xlim(xx1.min(), xx1.max())\n",
    "    plt.ylim(xx2.min(), xx2.max())\n",
    "\n",
    "    # plot class samples\n",
    "    for idx, cl in enumerate(np.unique(y)):\n",
    "        plt.scatter(x=X[y == cl, 0], y=X[y == cl, 1],\n",
    "                    alpha=0.8, c=cmap(idx),\n",
    "                    marker=markers[idx], label=cl)\n",
    "\n",
    "    # highlight test samples\n",
    "    if test_idx:\n",
    "        # plot all samples\n",
    "        X_test, y_test = X[test_idx, :], y[test_idx]\n",
    "\n",
    "        plt.scatter(X_test[:, 0],\n",
    "                    X_test[:, 1],\n",
    "                    c='',\n",
    "                    alpha=1.0,\n",
    "                    linewidths=1,\n",
    "                    marker='o',\n",
    "                    s=55, label='test set')"
   ]
  },
  {
   "cell_type": "code",
   "execution_count": 28,
   "metadata": {},
   "outputs": [],
   "source": [
    "class Camada():\n",
    "    def __init__ (self, qtde_nosEntrada, qtde_nosSaida, vetor_pesos, debug = True):\n",
    "        \n",
    "        self.debug = debug\n",
    "        \n",
    "        self.nosEntrada = qtde_nosEntrada\n",
    "        self.nosSaida   = qtde_nosSaida\n",
    "        self.pesos      = vetor_pesos\n",
    "                \n",
    "        # gera um array com o shape (nos_entrada, nos_saida), multiplica cada valor do array por 2 e depois subtrai 1, para o resultado ficar entre -1 e 1.\n",
    "        #self.pesos = 2 * np.random.rand(self.nosEntrada, self.nosSaida) - 1\n",
    "\n",
    "    def sigmoide(self, z):\n",
    "        r = 1.0 / (1.0 + np.exp(-z))\n",
    "        return r\n",
    "\n",
    "    def forward (self, entrada):\n",
    "        self.entrada = entrada\n",
    "\n",
    "        if self.debug: print(\"forward self.entrada: {}\".format(self.entrada))\n",
    "        \n",
    "        r = np.dot(self.entrada, self.pesos)\n",
    "        self.saida = self.sigmoide(r)\n",
    "        \n",
    "        if self.debug: print(\"self.saida: {}\".format(self.saida))\n",
    "        \n",
    "        return self.saida"
   ]
  },
  {
   "cell_type": "code",
   "execution_count": 29,
   "metadata": {},
   "outputs": [],
   "source": [
    "class RedeNeural(BaseEstimator, ClassifierMixin):\n",
    "    #camadas = [2, 2, 1]\n",
    "    def __init__ (self, camadas, pesos, debug = True): \n",
    "        \n",
    "        self.debug = debug\n",
    "        \n",
    "        bias_entrada = 1\n",
    "        bias_saida   = 1\n",
    "        \n",
    "        # a quantidade de camadas ocultas é o total de camadas, menos as camadas inicial e final.\n",
    "        qtde_camadas_ocultas = len(camadas) - 2\n",
    "        \n",
    "        # Cria a primeira camada da rede neural - inclui o nó bias na camada de entrada e na primeira camada oculta\n",
    "        self.camadas = np.array([Camada(camadas[0] + bias_entrada, camadas[1] + bias_saida, pesos[0], self.debug)])\n",
    "\n",
    "        # Cria as camadas ocultas - inclui o nó bias na camada de entrada e na primeira camada oculta da iteração\n",
    "        for i in range(qtde_camadas_ocultas - 1):\n",
    "            self.camadas = np.append(self.camadas, [Camada(camadas[i+1] + bias_entrada, camadas[i+2] + bias_saida, pesos[i+1], self.debug)])\n",
    "\n",
    "        # Cria a camada de saída - inclui o nó bias na camada de entrada e não inclui na camada de saída\n",
    "        self.camadas = np.append(self.camadas, [Camada(camadas[-2] + bias_entrada, camadas[-1], pesos[-1], self.debug)])\n",
    "        \n",
    "    def print_arquitetura(self):\n",
    "        print(\"qtde_camadas_ocultas: {}\".format(len(self.camadas) - 1))\n",
    "        for camada in self.camadas:\n",
    "            print(\"camada\")\n",
    "            print(\"\\tnúmero de nós de entrada: {}\".format(camada.nosEntrada))\n",
    "            print(\"\\tnúmero de nós de saída:   {}\".format(camada.nosSaida))\n",
    "            print(\"\\tpesos da camada:          {} -- tipo {} -- shape {}\".format(camada.pesos, type(camada.pesos), camada.pesos.shape))\n",
    "            print()\n",
    "            \n",
    "    #dispara o sinal da primeira camada para a última\n",
    "    def avalia_registro(self, entrada):\n",
    "        #adiciona o bias na entrada\n",
    "        entrada = np.concatenate((np.ones(1).T, np.array(entrada)))\n",
    "        \n",
    "        if self.debug:\n",
    "            print(\"inicio avalia_registro: {}\".format(entrada))\n",
    "\n",
    "        for camada in self.camadas:\n",
    "            entrada = camada.forward(entrada)\n",
    "            \n",
    "            if self.debug:\n",
    "                print(\"intermediario avalia_registro, resultado camada.forward: {}\".format(entrada))\n",
    "\n",
    "        return entrada\n",
    "\n",
    "    def fit(self, X, y, iterations = 10000):\n",
    "        return\n",
    "                    \n",
    "    def predict(self, X):\n",
    "        resultado = []\n",
    "        \n",
    "        if self.debug: print(\"X: {}\".format(X))\n",
    "\n",
    "        for x in X:\n",
    "            if self.debug: print(\"x: {}\".format(x))\n",
    "\n",
    "            r = self.avalia_registro(x)\n",
    "            \n",
    "            if self.debug: print(\"r: {}\".format(r))\n",
    "            \n",
    "            resultado.append(r)\n",
    "            \n",
    "            if self.debug: print()\n",
    "        \n",
    "        return np.array(resultado)"
   ]
  },
  {
   "cell_type": "code",
   "execution_count": 30,
   "metadata": {},
   "outputs": [],
   "source": [
    "X = np.array([[0, 0], [0, 1],\n",
    "              [1, 0], [1, 1]])\n",
    "\n",
    "y = np.array([0, 1,\n",
    "              1, 0])"
   ]
  },
  {
   "cell_type": "code",
   "execution_count": 31,
   "metadata": {},
   "outputs": [
    {
     "name": "stdout",
     "output_type": "stream",
     "text": [
      "[[0.02195953]\n",
      " [0.9701605 ]\n",
      " [0.97013414]\n",
      " [0.03284961]]\n"
     ]
    }
   ],
   "source": [
    "pesos_entrada = np.array([[ 1.74513663, -0.27294652, -6.6275564 ], [-5.30082191, 3.22929842, 4.35692107], [-5.30558028, 3.23342006, 4.35806833]])\n",
    "pesos_oculta  = np.array([[-6.86268987], [ 4.76233485], [-9.14269281]]).reshape(3, 1)\n",
    "pesos = [pesos_entrada, pesos_oculta]\n",
    "\n",
    "#atentar-se ao fato de que é inserido um nó bias em cada camada, exceto a última\n",
    "rna = RedeNeural([2, 2, 1], pesos, debug = False)\n",
    "resultado = rna.predict(X)\n",
    "print(resultado)"
   ]
  },
  {
   "cell_type": "code",
   "execution_count": 32,
   "metadata": {},
   "outputs": [
    {
     "name": "stderr",
     "output_type": "stream",
     "text": [
      "'c' argument looks like a single numeric RGB or RGBA sequence, which should be avoided as value-mapping will have precedence in case its length matches with 'x' & 'y'.  Please use a 2-D array with a single row if you really want to specify the same RGB or RGBA value for all points.\n",
      "'c' argument looks like a single numeric RGB or RGBA sequence, which should be avoided as value-mapping will have precedence in case its length matches with 'x' & 'y'.  Please use a 2-D array with a single row if you really want to specify the same RGB or RGBA value for all points.\n"
     ]
    },
    {
     "data": {
      "image/png": "[encoded data removed]",
      "text/plain": [
       "<Figure size 432x288 with 1 Axes>"
      ]
     },
     "metadata": {
      "needs_background": "light"
     },
     "output_type": "display_data"
    }
   ],
   "source": [
    "pesos_entrada = np.array([[ 1.74513663, -0.27294652, -6.6275564 ], [-5.30082191, 3.22929842, 4.35692107], [-5.30558028, 3.23342006, 4.35806833]])\n",
    "pesos_oculta  = np.array([[-6.86268987], [ 4.76233485], [-9.14269281]]).reshape(3, 1)\n",
    "pesos = [pesos_entrada, pesos_oculta]\n",
    "\n",
    "#atentar-se ao fato de que é inserido um nó bias em cada camada, exceto a última\n",
    "rna = RedeNeural([2, 2, 1], pesos, debug = False)\n",
    "\n",
    "executa_teste(X, y, rna)"
   ]
  },
  {
   "cell_type": "code",
   "execution_count": 33,
   "metadata": {},
   "outputs": [
    {
     "name": "stderr",
     "output_type": "stream",
     "text": [
      "'c' argument looks like a single numeric RGB or RGBA sequence, which should be avoided as value-mapping will have precedence in case its length matches with 'x' & 'y'.  Please use a 2-D array with a single row if you really want to specify the same RGB or RGBA value for all points.\n",
      "'c' argument looks like a single numeric RGB or RGBA sequence, which should be avoided as value-mapping will have precedence in case its length matches with 'x' & 'y'.  Please use a 2-D array with a single row if you really want to specify the same RGB or RGBA value for all points.\n"
     ]
    },
    {
     "data": {
      "image/png": "[encoded data removed]",
      "text/plain": [
       "<Figure size 432x288 with 1 Axes>"
      ]
     },
     "metadata": {
      "needs_background": "light"
     },
     "output_type": "display_data"
    }
   ],
   "source": [
    "pesos_entrada = np.array([[5.10378148, -3.78632534, 0.66250704, 2.62357931],\n",
    "                          [-3.49619324, 2.76223934, -0.05682757, -6.21572549],\n",
    "                          [-3.30050094, 2.3181258, -2.4310841, -6.31661403]])\n",
    "pesos_oculta  = np.array([[5.43682764], [-5.70623024], [1.39118148], [-10.48115125]]).reshape(4, 1)\n",
    "pesos = [pesos_entrada, pesos_oculta]\n",
    "\n",
    "#atentar-se ao fato de que é inserido um nó bias em cada camada, exceto a última\n",
    "rna = RedeNeural([2, 3, 1], pesos, debug = False)\n",
    "\n",
    "executa_teste(X, y, rna)"
   ]
  },
  {
   "cell_type": "code",
   "execution_count": 34,
   "metadata": {},
   "outputs": [
    {
     "name": "stderr",
     "output_type": "stream",
     "text": [
      "'c' argument looks like a single numeric RGB or RGBA sequence, which should be avoided as value-mapping will have precedence in case its length matches with 'x' & 'y'.  Please use a 2-D array with a single row if you really want to specify the same RGB or RGBA value for all points.\n",
      "'c' argument looks like a single numeric RGB or RGBA sequence, which should be avoided as value-mapping will have precedence in case its length matches with 'x' & 'y'.  Please use a 2-D array with a single row if you really want to specify the same RGB or RGBA value for all points.\n"
     ]
    },
    {
     "data": {
      "image/png": "[encoded data removed]",
      "text/plain": [
       "<Figure size 432x288 with 1 Axes>"
      ]
     },
     "metadata": {
      "needs_background": "light"
     },
     "output_type": "display_data"
    }
   ],
   "source": [
    "pesos_entrada = np.array([\n",
    "    [0.64291678,  1.0687646,  -2.17271586,  1.72008825, -0.49919793],\n",
    "    [2.62396607,  0.66895639, -4.10620446, -3.79047513, -1.37760389],\n",
    "    [-2.59019417, -0.84127781,  4.0021083,   4.05260859,  1.44019994]]\n",
    ")\n",
    "\n",
    "pesos_oculta = np.array([\n",
    "    [ 2.62754597, -3.13374301,  2.93417847,  0.57661113],\n",
    "    [ 1.55446619, -1.56502148,  0.74014422, -0.4509503 ],\n",
    "    [-3.92740136,  3.56712182, -0.17056196,  1.56390721],\n",
    "    [ 0.317668,   -0.73097699, -5.87317236, -2.03965891],\n",
    "    [ 0.21094803,  1.26986018, -1.72157615,  0.76014833]]\n",
    ")\n",
    "\n",
    "pesos_saida  = np.array([[-4.99443035], [4.29688676], [7.86155279], [2.30738465]]).reshape(4, 1)\n",
    "\n",
    "pesos = [pesos_entrada, pesos_oculta, pesos_saida]\n",
    "\n",
    "#atentar-se ao fato de que é inserido um nó bias em cada camada, exceto a última\n",
    "rna = RedeNeural([2, 4, 3, 1], pesos, debug = False)\n",
    "\n",
    "executa_teste(X, y, rna)"
   ]
  },
  {
   "cell_type": "markdown",
   "metadata": {},
   "source": [
    "# Resultados\n",
    "\n",
    "Nesta tarefa foi pedido que fosse implementada uma rede neural do tipo feed forward, porém, sem o mecanismo de backward que é a etapa de ajuste dos pesos. Dessa maneira, implementamos uma rede neural contendo dois parâmetros, sendo o primeiro, o vetor de entrada que simboliza a arquitetura da rede neural, assim, um vetor \\[2, 2, 1\\]  significa que o programa construirá uma rede neural de 3 camadas, sendo uma oculta, e que na primeira e segunda camada existem dois neurônios, mais um neurônio de bias em cada camada, e na última camada, existe apenas um neurônio. O segundo parâmetro, é o vetor de pesos, ajustados manualmente para que a rede neural possa resolver o problema XOR apenas com a fase forward.\n",
    "\n",
    "Foi implementado apenas o método forward, onde ocorre a multiplicação do vetor de pesos da camada pela entrada contendo o bias e esse resultado passa pela função sigmóide, para normalizar o resultado.\n",
    "\n",
    "Porém, como foi solicitado apenas a fase forward sem um método de fit onde fosse possível ajustar os pesos, sem o parâmetro vetor de pesos previamente ajustados, a rede neural não conseguiria resolver o problema XOR de forma adequada."
   ]
  }
 ],
 "metadata": {
  "kernelspec": {
   "display_name": "Python 3",
   "language": "python",
   "name": "python3"
  },
  "language_info": {
   "codemirror_mode": {
    "name": "ipython",
    "version": 3
   },
   "file_extension": ".py",
   "mimetype": "text/x-python",
   "name": "python",
   "nbconvert_exporter": "python",
   "pygments_lexer": "ipython3",
   "version": "3.7.6"
  }
 },
 "nbformat": 4,
 "nbformat_minor": 4
}
