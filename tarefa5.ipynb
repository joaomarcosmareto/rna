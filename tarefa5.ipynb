{
 "cells": [
  {
   "cell_type": "code",
   "execution_count": 77,
   "metadata": {},
   "outputs": [],
   "source": [
    "import numpy as np\n",
    "import pandas as pd\n",
    "from sklearn.model_selection import train_test_split\n",
    "from sklearn.preprocessing import OneHotEncoder\n",
    "from sklearn.preprocessing import MinMaxScaler\n",
    "from sklearn.preprocessing import StandardScaler\n",
    "from sklearn.pipeline import Pipeline\n",
    "import time\n",
    "from sklearn.model_selection import cross_val_score\n",
    "\n",
    "from scipy.linalg import pinv2\n",
    "from scipy.special import expit\n",
    "from sklearn.preprocessing import LabelBinarizer\n",
    "from sklearn.base import BaseEstimator, ClassifierMixin\n",
    "\n",
    "np.random.seed(0)"
   ]
  },
  {
   "cell_type": "code",
   "execution_count": 78,
   "metadata": {},
   "outputs": [],
   "source": [
    "class Camada():\n",
    "    def __init__ (self, qtde_nosEntrada, qtde_nosSaida, debug = True):\n",
    "        \n",
    "        self.debug = debug\n",
    "        \n",
    "        self.nosEntrada = qtde_nosEntrada\n",
    "        self.nosSaida = qtde_nosSaida\n",
    "\n",
    "        #self.pesos = np.round(np.random.rand(self.nosEntrada, self.nosSaida) - 0.5, 2)\n",
    "        \n",
    "        # gera um array com o shape (nos_entrada, nos_saida), multiplica cada valor do array por 2 e depois subtrai 1, para o resultado ficar entre -1 e 1.\n",
    "        self.pesos = 2 * np.random.rand(self.nosEntrada, self.nosSaida) - 1\n",
    "\n",
    "    def sigmoide(self, z):\n",
    "        r = 1.0 / (1.0 + np.exp(-z))\n",
    "        return r\n",
    "\n",
    "    def forward (self, entrada):\n",
    "        self.entrada = entrada\n",
    "\n",
    "        if self.debug: print(\"forward self.entrada: {}\".format(self.entrada))\n",
    "        \n",
    "        r = np.dot(self.entrada, self.pesos)\n",
    "        self.saida = self.sigmoide(r)\n",
    "        \n",
    "        if self.debug: print(\"self.saida: {}\".format(self.saida))\n",
    "        \n",
    "        return self.saida"
   ]
  },
  {
   "cell_type": "code",
   "execution_count": 79,
   "metadata": {},
   "outputs": [],
   "source": [
    "class RedeNeural(BaseEstimator, ClassifierMixin):\n",
    "    #camadas = [2, 2, 1]\n",
    "    def __init__ (self, camadas, debug = True): \n",
    "        \n",
    "        self.debug = debug\n",
    "        \n",
    "        bias_entrada = 1\n",
    "        bias_saida   = 1\n",
    "        \n",
    "        # a quantidade de camadas ocultas é o total de camadas, menos as camadas inicial e final.\n",
    "        qtde_camadas_ocultas = len(camadas) - 2\n",
    "        \n",
    "        # Cria a primeira camada da rede neural - inclui o nó bias na camada de entrada e na primeira camada oculta\n",
    "        self.camadas = np.array([Camada(camadas[0] + bias_entrada, camadas[1] + bias_saida, self.debug)])\n",
    "\n",
    "        # Cria as camadas ocultas - inclui o nó bias na camada de entrada e na primeira camada oculta da iteração\n",
    "        for i in range(qtde_camadas_ocultas - 1):\n",
    "            self.camadas = np.append(self.camadas, [Camada(camadas[i+1] + bias_entrada, camadas[i+2] + bias_saida, self.debug)])\n",
    "\n",
    "        # Cria a camada de saída - inclui o nó bias na camada de entrada e não inclui na camada de saída\n",
    "        self.camadas = np.append(self.camadas, [Camada(camadas[-2] + bias_entrada, camadas[-1], self.debug)])\n",
    "        \n",
    "    def print_arquitetura():\n",
    "        print(\"qtde_camadas_ocultas: {}\".format(qtde_camadas_ocultas))\n",
    "        for camada in self.camadas:\n",
    "            print(\"camada\")\n",
    "            print(\"\\tnúmero de nós de entrada: {}\".format(camada.nosEntrada))\n",
    "            print(\"\\tnúmero de nós de saída:   {}\".format(camada.nosSaida))\n",
    "            print(\"\\tpesos da camada:          {}\".format(camada.pesos))\n",
    "            print()\n",
    "            \n",
    "    #dispara o sinal da primeira camada para a última\n",
    "    def avalia_registro(self, entrada):\n",
    "        #adiciona o bias na entrada\n",
    "        entrada = np.concatenate((np.ones(1).T, np.array(entrada)))\n",
    "        \n",
    "        if self.debug:\n",
    "            print(\"inicio avalia_registro: {}\".format(entrada))\n",
    "\n",
    "        for camada in self.camadas:\n",
    "            entrada = camada.forward(entrada)\n",
    "            \n",
    "            if self.debug:\n",
    "                print(\"intermediario avalia_registro, resultado camada.forward: {}\".format(entrada))\n",
    "\n",
    "        return entrada\n",
    "\n",
    "    def fit(self, X, y, iterations = 10000):\n",
    "        return\n",
    "                    \n",
    "    def predict(self, X):\n",
    "        resultado = []\n",
    "        \n",
    "        if self.debug: print(\"X: {}\".format(X))\n",
    "\n",
    "        for x in X:\n",
    "            if self.debug: print(\"x: {}\".format(x))\n",
    "\n",
    "            r = self.avalia_registro(x)\n",
    "            \n",
    "            if self.debug: print(\"r: {}\".format(r))\n",
    "            \n",
    "            resultado.append(r)\n",
    "            \n",
    "            if self.debug: print()\n",
    "        \n",
    "        return np.array(resultado)"
   ]
  },
  {
   "cell_type": "code",
   "execution_count": 80,
   "metadata": {},
   "outputs": [],
   "source": [
    "#atentar-se ao fato de que é inserido um nó bias em cada camada, exceto a última\n",
    "rna = RedeNeural([2,2,1], debug = False)"
   ]
  },
  {
   "cell_type": "code",
   "execution_count": 81,
   "metadata": {},
   "outputs": [],
   "source": [
    "X = np.array([[0, 0], [0, 1],\n",
    "              [1, 0], [1, 1]])\n",
    "\n",
    "y = np.array([0, 1,\n",
    "              1, 0])"
   ]
  },
  {
   "cell_type": "code",
   "execution_count": 82,
   "metadata": {},
   "outputs": [
    {
     "data": {
      "text/plain": [
       "array([[0.56541294],\n",
       "       [0.59352875],\n",
       "       [0.55982667],\n",
       "       [0.58900148]])"
      ]
     },
     "execution_count": 82,
     "metadata": {},
     "output_type": "execute_result"
    }
   ],
   "source": [
    "resultado = rna.predict(X)\n",
    "resultado"
   ]
  },
  {
   "cell_type": "code",
   "execution_count": 83,
   "metadata": {},
   "outputs": [],
   "source": [
    "from matplotlib.colors import ListedColormap\n",
    "import matplotlib.pyplot as plt\n",
    "\n",
    "# The following code is used for hiding the warnings and make this notebook clearer.\n",
    "import warnings\n",
    "warnings.filterwarnings('ignore')\n",
    "\n",
    "def executa_teste(X, y, classifier, test_idx=None, resolution=0.02):\n",
    "\n",
    "    # setup marker generator and color map\n",
    "    markers = ('s', 'x', 'o', '^', 'v')\n",
    "    colors = ('red', 'blue', 'lightgreen', 'gray', 'cyan')\n",
    "    cmap = ListedColormap(colors[:len(np.unique(y))])\n",
    "\n",
    "    # plot the decision surface\n",
    "    x1_min, x1_max = X[:, 0].min() - 1, X[:, 0].max() + 1\n",
    "    x2_min, x2_max = X[:, 1].min() - 1, X[:, 1].max() + 1\n",
    "    xx1, xx2 = np.meshgrid(np.arange(x1_min, x1_max, resolution),\n",
    "                           np.arange(x2_min, x2_max, resolution))\n",
    "    Z = classifier.predict(np.array([xx1.ravel(), xx2.ravel()]).T)\n",
    "    Z = Z.reshape(xx1.shape)\n",
    "    plt.contourf(xx1, xx2, Z, alpha=0.4, cmap=cmap)\n",
    "    plt.xlim(xx1.min(), xx1.max())\n",
    "    plt.ylim(xx2.min(), xx2.max())\n",
    "\n",
    "    # plot class samples\n",
    "    for idx, cl in enumerate(np.unique(y)):\n",
    "        plt.scatter(x=X[y == cl, 0], y=X[y == cl, 1],\n",
    "                    alpha=0.8, c=cmap(idx),\n",
    "                    marker=markers[idx], label=cl)\n",
    "\n",
    "    # highlight test samples\n",
    "    if test_idx:\n",
    "        # plot all samples\n",
    "        X_test, y_test = X[test_idx, :], y[test_idx]\n",
    "\n",
    "        plt.scatter(X_test[:, 0],\n",
    "                    X_test[:, 1],\n",
    "                    c='',\n",
    "                    alpha=1.0,\n",
    "                    linewidths=1,\n",
    "                    marker='o',\n",
    "                    s=55, label='test set')"
   ]
  },
  {
   "cell_type": "code",
   "execution_count": 84,
   "metadata": {},
   "outputs": [
    {
     "name": "stderr",
     "output_type": "stream",
     "text": [
      "'c' argument looks like a single numeric RGB or RGBA sequence, which should be avoided as value-mapping will have precedence in case its length matches with 'x' & 'y'.  Please use a 2-D array with a single row if you really want to specify the same RGB or RGBA value for all points.\n",
      "'c' argument looks like a single numeric RGB or RGBA sequence, which should be avoided as value-mapping will have precedence in case its length matches with 'x' & 'y'.  Please use a 2-D array with a single row if you really want to specify the same RGB or RGBA value for all points.\n"
     ]
    },
    {
     "data": {
      "image/png": "[encoded data removed]",
      "text/plain": [
       "<Figure size 432x288 with 1 Axes>"
      ]
     },
     "metadata": {
      "needs_background": "light"
     },
     "output_type": "display_data"
    }
   ],
   "source": [
    "#atentar-se ao fato de que é inserido um nó bias em cada camada, exceto a última\n",
    "rna = RedeNeural([2, 2, 1], debug = False)\n",
    "executa_teste(X, y, rna)"
   ]
  },
  {
   "cell_type": "code",
   "execution_count": 85,
   "metadata": {},
   "outputs": [
    {
     "name": "stderr",
     "output_type": "stream",
     "text": [
      "'c' argument looks like a single numeric RGB or RGBA sequence, which should be avoided as value-mapping will have precedence in case its length matches with 'x' & 'y'.  Please use a 2-D array with a single row if you really want to specify the same RGB or RGBA value for all points.\n",
      "'c' argument looks like a single numeric RGB or RGBA sequence, which should be avoided as value-mapping will have precedence in case its length matches with 'x' & 'y'.  Please use a 2-D array with a single row if you really want to specify the same RGB or RGBA value for all points.\n"
     ]
    },
    {
     "data": {
      "image/png": "[encoded data removed]",
      "text/plain": [
       "<Figure size 432x288 with 1 Axes>"
      ]
     },
     "metadata": {
      "needs_background": "light"
     },
     "output_type": "display_data"
    }
   ],
   "source": [
    "#atentar-se ao fato de que é inserido um nó bias em cada camada, exceto a última\n",
    "rna = RedeNeural([2, 3, 1], debug = False)\n",
    "executa_teste(X, y, rna)"
   ]
  },
  {
   "cell_type": "code",
   "execution_count": 86,
   "metadata": {},
   "outputs": [
    {
     "name": "stderr",
     "output_type": "stream",
     "text": [
      "'c' argument looks like a single numeric RGB or RGBA sequence, which should be avoided as value-mapping will have precedence in case its length matches with 'x' & 'y'.  Please use a 2-D array with a single row if you really want to specify the same RGB or RGBA value for all points.\n",
      "'c' argument looks like a single numeric RGB or RGBA sequence, which should be avoided as value-mapping will have precedence in case its length matches with 'x' & 'y'.  Please use a 2-D array with a single row if you really want to specify the same RGB or RGBA value for all points.\n"
     ]
    },
    {
     "data": {
      "image/png": "[encoded data removed]",
      "text/plain": [
       "<Figure size 432x288 with 1 Axes>"
      ]
     },
     "metadata": {
      "needs_background": "light"
     },
     "output_type": "display_data"
    }
   ],
   "source": [
    "#atentar-se ao fato de que é inserido um nó bias em cada camada, exceto a última\n",
    "rna = RedeNeural([2, 4, 3, 1], debug = False)\n",
    "executa_teste(X, y, rna)"
   ]
  },
  {
   "cell_type": "markdown",
   "metadata": {},
   "source": [
    "# Resultados\n",
    "\n",
    "Nesta tarefa foi pedido que fosse implementada uma rede neural do tipo feed forward, porém, sem o mecanismo de backward que é a etapa de ajuste dos pesos. Dessa maneira, implementamos uma rede neural contendo um único parametro que é o vetor de entrada que simboliza a arquitetura da rede neural, assim, um vetor \\[2, 2, 1\\]  significa que o programa construirá uma rede neural de 3 camadas, sendo uma oculta, e que na primeira e segunda camada existem dois neurônios, mais um neurônio de bias em cada camada, e na última camada, existe apenas um neurônio.\n",
    "\n",
    "Foi implementado apenas o método forward, onde ocorre a multiplicação do vetor de pesos da camada pela entrada contendo o bias e esse resultado passa pela função sigmóide, para normalizar o resultado.\n",
    "\n",
    "Porém, como foi solicitado apenas a fase forward, sem um método de fit, onde fosse possível ajustar os pesos, podemos observar que a rede neural não consegue resolver o problema XOR de forma adequada, como podemos ver nas plotagens acima.\n",
    "\n",
    "Podemos ver também que o número de camadas ou neurônios parece não afetar o resultado de forma que se aproxime de uma solução satisfatória, neste caso. O que é esperado uma vez que a causa de não se chegar a uma solução adequada é a falta de ajuste dos pesos ou \"treinamento\" da rede neural."
   ]
  }
 ],
 "metadata": {
  "kernelspec": {
   "display_name": "Python 3",
   "language": "python",
   "name": "python3"
  },
  "language_info": {
   "codemirror_mode": {
    "name": "ipython",
    "version": 3
   },
   "file_extension": ".py",
   "mimetype": "text/x-python",
   "name": "python",
   "nbconvert_exporter": "python",
   "pygments_lexer": "ipython3",
   "version": "3.7.6"
  }
 },
 "nbformat": 4,
 "nbformat_minor": 4
}
